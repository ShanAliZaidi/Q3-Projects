{
  "nbformat": 4,
  "nbformat_minor": 0,
  "metadata": {
    "colab": {
      "provenance": [],
      "authorship_tag": "ABX9TyMDJwIVibidw22Dztir+LD1",
      "include_colab_link": true
    },
    "kernelspec": {
      "name": "python3",
      "display_name": "Python 3"
    },
    "language_info": {
      "name": "python"
    }
  },
  "cells": [
    {
      "cell_type": "markdown",
      "metadata": {
        "id": "view-in-github",
        "colab_type": "text"
      },
      "source": [
        "<a href=\"https://colab.research.google.com/github/ShanAliZaidi/P1_LangChain_HW/blob/main/Project01_LangChain.ipynb\" target=\"_parent\"><img src=\"https://colab.research.google.com/assets/colab-badge.svg\" alt=\"Open In Colab\"/></a>"
      ]
    },
    {
      "cell_type": "markdown",
      "source": [
        "# Integration / Simple LLM App"
      ],
      "metadata": {
        "id": "vkVzPxHrMy5v"
      }
    },
    {
      "cell_type": "code",
      "execution_count": null,
      "metadata": {
        "colab": {
          "base_uri": "https://localhost:8080/"
        },
        "collapsed": true,
        "id": "Bc2o0yxHnyG9",
        "outputId": "35482779-fc01-469f-c970-088db5817763"
      },
      "outputs": [
        {
          "output_type": "stream",
          "name": "stdout",
          "text": [
            "\u001b[?25l   \u001b[90m━━━━━━━━━━━━━━━━━━━━━━━━━━━━━━━━━━━━━━━━\u001b[0m \u001b[32m0.0/41.3 kB\u001b[0m \u001b[31m?\u001b[0m eta \u001b[36m-:--:--\u001b[0m\r\u001b[2K   \u001b[90m━━━━━━━━━━━━━━━━━━━━━━━━━━━━━━━━━━━━━━━━\u001b[0m \u001b[32m41.3/41.3 kB\u001b[0m \u001b[31m1.7 MB/s\u001b[0m eta \u001b[36m0:00:00\u001b[0m\n",
            "\u001b[?25h"
          ]
        }
      ],
      "source": [
        "%pip install -q langchain\n",
        "%pip install -q langchain-google-genai"
      ]
    },
    {
      "cell_type": "code",
      "source": [
        "from langchain_google_genai import ChatGoogleGenerativeAI\n",
        "import os\n",
        "from google.colab import userdata\n",
        "\n",
        "GEMINI_API_KEY = userdata.get(\"GEMINI_KEY\")\n",
        "os.environ[\"GOOGLE_API_KEY\"] = GEMINI_API_KEY\n",
        "llm = ChatGoogleGenerativeAI(\n",
        "    model = \"gemini-2.0-flash-exp\",\n",
        "    temperature = 0\n",
        ")\n",
        "msg = [\n",
        "    {\"role\": \"system\", \"content\": \"You are an programming expert\"},\n",
        "    {\"role\": \"user\", \"content\": \"What is Hello World\"}\n",
        "]\n",
        "import IPython\n",
        "def to_markdown(text):\n",
        "  display(IPython.display.Markdown(text))"
      ],
      "metadata": {
        "id": "ajmwct1koxB0"
      },
      "execution_count": null,
      "outputs": []
    },
    {
      "cell_type": "markdown",
      "source": [
        "Invoke Method"
      ],
      "metadata": {
        "id": "CEkhxPLi4oTJ"
      }
    },
    {
      "cell_type": "code",
      "source": [
        "aimsg = llm.invoke(msg)\n",
        "to_markdown(aimsg.content)"
      ],
      "metadata": {
        "collapsed": true,
        "id": "rFy0o3gfru00",
        "colab": {
          "base_uri": "https://localhost:8080/",
          "height": 1000
        },
        "outputId": "95d326fe-2129-4814-8593-eab63188c8a5"
      },
      "execution_count": null,
      "outputs": [
        {
          "output_type": "display_data",
          "data": {
            "text/plain": [
              "<IPython.core.display.Markdown object>"
            ],
            "text/markdown": "Okay, let's break down \"Hello, World!\" in the context of programming.\n\n**What is \"Hello, World!\"?**\n\n\"Hello, World!\" is a very simple program that outputs the text \"Hello, World!\" to the console or screen. It's often the first program that beginners write when learning a new programming language. It serves as a basic test to ensure that the development environment is set up correctly and that the language's fundamental syntax is understood.\n\n**Why is it Important?**\n\n1. **Foundation:** It's the absolute starting point. It helps you understand the basic structure of a program in a new language.\n2. **Environment Check:** It verifies that your compiler, interpreter, or development environment is working correctly. If \"Hello, World!\" runs, you know the basic tools are in place.\n3. **Syntax Introduction:** It introduces the most basic syntax elements of a language, such as:\n   - How to print output to the console.\n   - How to write a basic program structure.\n4. **Confidence Booster:** Successfully running \"Hello, World!\" gives beginners a sense of accomplishment and encourages them to continue learning.\n5. **Universal Tradition:** It's a widely recognized and almost universal tradition in programming education.\n\n**How it Works (General Concept)**\n\nThe core idea is to use a language's built-in function or command to display text. Here's a general breakdown:\n\n1. **Language-Specific Syntax:** Each programming language has its own way of writing the \"Hello, World!\" program.\n2. **Output Function:** You'll use a function or command that's designed to print text to the console (e.g., `print()`, `System.out.println()`, `console.log()`).\n3. **String Literal:** The text \"Hello, World!\" is usually enclosed in quotation marks (single or double) to indicate that it's a string literal.\n\n**Examples in Different Languages**\n\nHere are some examples of \"Hello, World!\" in popular programming languages:\n\n*   **Python:**\n    ```python\n    print(\"Hello, World!\")\n    ```\n\n*   **Java:**\n    ```java\n    public class HelloWorld {\n        public static void main(String[] args) {\n            System.out.println(\"Hello, World!\");\n        }\n    }\n    ```\n\n*   **JavaScript:**\n    ```javascript\n    console.log(\"Hello, World!\");\n    ```\n\n*   **C:**\n    ```c\n    #include <stdio.h>\n\n    int main() {\n        printf(\"Hello, World!\\n\");\n        return 0;\n    }\n    ```\n\n*   **C++:**\n    ```c++\n    #include <iostream>\n\n    int main() {\n        std::cout << \"Hello, World!\" << std::endl;\n        return 0;\n    }\n    ```\n\n*   **Go:**\n    ```go\n    package main\n\n    import \"fmt\"\n\n    func main() {\n        fmt.Println(\"Hello, World!\")\n    }\n    ```\n\n**Key Takeaways**\n\n*   \"Hello, World!\" is a simple program that prints the text \"Hello, World!\" to the console.\n*   It's the first program many beginners write when learning a new language.\n*   It's used to verify the development environment and introduce basic syntax.\n*   The specific code varies depending on the programming language.\n\nLet me know if you'd like to see examples in any other specific languages or have more questions!\n"
          },
          "metadata": {}
        }
      ]
    },
    {
      "cell_type": "markdown",
      "source": [
        "Stream Method"
      ],
      "metadata": {
        "id": "iEcON3as4qCb"
      }
    },
    {
      "cell_type": "code",
      "source": [
        "aimsg = llm.stream(msg)\n",
        "for chunk in aimsg:\n",
        "  to_markdown(chunk.content)"
      ],
      "metadata": {
        "colab": {
          "base_uri": "https://localhost:8080/",
          "height": 1000
        },
        "collapsed": true,
        "id": "VnHNKlkI4TGp",
        "outputId": "13a08fc6-c786-4265-b720-5a0ebd27fe54"
      },
      "execution_count": null,
      "outputs": [
        {
          "output_type": "display_data",
          "data": {
            "text/plain": [
              "<IPython.core.display.Markdown object>"
            ],
            "text/markdown": "Okay"
          },
          "metadata": {}
        },
        {
          "output_type": "display_data",
          "data": {
            "text/plain": [
              "<IPython.core.display.Markdown object>"
            ],
            "text/markdown": ", let's break down \"Hello, World!\" in the context of programming"
          },
          "metadata": {}
        },
        {
          "output_type": "display_data",
          "data": {
            "text/plain": [
              "<IPython.core.display.Markdown object>"
            ],
            "text/markdown": ".\n\n**What is \"Hello, World!\"?**\n\n\"Hello,"
          },
          "metadata": {}
        },
        {
          "output_type": "display_data",
          "data": {
            "text/plain": [
              "<IPython.core.display.Markdown object>"
            ],
            "text/markdown": " World!\" is a very simple program that outputs the text \"Hello, World!\" to the console or screen. It's often the first program that beginners write"
          },
          "metadata": {}
        },
        {
          "output_type": "display_data",
          "data": {
            "text/plain": [
              "<IPython.core.display.Markdown object>"
            ],
            "text/markdown": " when learning a new programming language. It serves as a basic test to ensure that the development environment is set up correctly and that the language's fundamental syntax is"
          },
          "metadata": {}
        },
        {
          "output_type": "display_data",
          "data": {
            "text/plain": [
              "<IPython.core.display.Markdown object>"
            ],
            "text/markdown": " understood.\n\n**Why is it Important?**\n\n1. **Foundation:** It's the absolute starting point. It helps you understand the basic structure of a program in a new language.\n2. **Environment Check:** It verifies"
          },
          "metadata": {}
        },
        {
          "output_type": "display_data",
          "data": {
            "text/plain": [
              "<IPython.core.display.Markdown object>"
            ],
            "text/markdown": " that your compiler, interpreter, or development environment is working correctly. If \"Hello, World!\" runs, you know the basic tools are in place.\n3. **Syntax Introduction:** It introduces the most basic syntax elements of a language,"
          },
          "metadata": {}
        },
        {
          "output_type": "display_data",
          "data": {
            "text/plain": [
              "<IPython.core.display.Markdown object>"
            ],
            "text/markdown": " such as:\n   - How to print output to the console.\n   - How to write a basic program structure.\n4. **Confidence Booster:** Successfully running \"Hello, World!\" gives beginners a sense of accomplishment and encourages them to continue learning.\n5. **Universal Tradition:** It's a widely"
          },
          "metadata": {}
        },
        {
          "output_type": "display_data",
          "data": {
            "text/plain": [
              "<IPython.core.display.Markdown object>"
            ],
            "text/markdown": " recognized and almost universal tradition in programming education.\n\n**How it Works (General Concept)**\n\nThe core idea is to use a language's built-in function or command to display text. Here's a general breakdown:\n\n1. **Language-Specific Syntax:** Each programming language has its own way of writing"
          },
          "metadata": {}
        },
        {
          "output_type": "display_data",
          "data": {
            "text/plain": [
              "<IPython.core.display.Markdown object>"
            ],
            "text/markdown": " the \"Hello, World!\" program.\n2. **Output Function:** You'll use a function or command that's designed to print text to the console (e.g., `print()`, `System.out.println()`, `console.log()`).\n3. **String Literal:** The"
          },
          "metadata": {}
        },
        {
          "output_type": "display_data",
          "data": {
            "text/plain": [
              "<IPython.core.display.Markdown object>"
            ],
            "text/markdown": " text \"Hello, World!\" is usually enclosed in quotation marks (single or double) to indicate that it's a string literal.\n\n**Examples in Different Languages**\n\nHere are some examples of \"Hello, World!\" in popular programming languages:\n\n*   **Python:**\n    ```python\n    print(\""
          },
          "metadata": {}
        },
        {
          "output_type": "display_data",
          "data": {
            "text/plain": [
              "<IPython.core.display.Markdown object>"
            ],
            "text/markdown": "Hello, World!\")\n    ```\n\n*   **Java:**\n    ```java\n    public class HelloWorld {\n        public static void main(String[] args) {\n            System.out.println(\"Hello, World!\");\n        }\n    }\n    ```\n\n*   **JavaScript:**\n    "
          },
          "metadata": {}
        },
        {
          "output_type": "display_data",
          "data": {
            "text/plain": [
              "<IPython.core.display.Markdown object>"
            ],
            "text/markdown": "```javascript\n    console.log(\"Hello, World!\");\n    ```\n\n*   **C:**\n    ```c\n    #include <stdio.h>\n\n    int main() {\n        printf(\"Hello, World!\\n\");\n        return 0;\n    }\n    ```\n\n*"
          },
          "metadata": {}
        },
        {
          "output_type": "display_data",
          "data": {
            "text/plain": [
              "<IPython.core.display.Markdown object>"
            ],
            "text/markdown": "   **C++:**\n    ```c++\n    #include <iostream>\n\n    int main() {\n        std::cout << \"Hello, World!\" << std::endl;\n        return 0;\n    }\n    ```\n\n*   **Go:**\n    ```go\n    package"
          },
          "metadata": {}
        },
        {
          "output_type": "display_data",
          "data": {
            "text/plain": [
              "<IPython.core.display.Markdown object>"
            ],
            "text/markdown": " main\n\n    import \"fmt\"\n\n    func main() {\n        fmt.Println(\"Hello, World!\")\n    }\n    ```\n\n**Key Takeaways**\n\n*   \"Hello, World!\" is a simple program that prints the text \"Hello, World!\" to the console.\n*   It"
          },
          "metadata": {}
        },
        {
          "output_type": "display_data",
          "data": {
            "text/plain": [
              "<IPython.core.display.Markdown object>"
            ],
            "text/markdown": "'s the first program many beginners write when learning a new language.\n*   It's used to verify the development environment and introduce basic syntax.\n*   The specific code varies depending on the programming language.\n\nLet me know if you'd like to see examples in any other specific languages or have more"
          },
          "metadata": {}
        },
        {
          "output_type": "display_data",
          "data": {
            "text/plain": [
              "<IPython.core.display.Markdown object>"
            ],
            "text/markdown": " questions!\n"
          },
          "metadata": {}
        }
      ]
    },
    {
      "cell_type": "markdown",
      "source": [
        "Prompt Templates"
      ],
      "metadata": {
        "id": "POItpyLhQn5s"
      }
    },
    {
      "cell_type": "code",
      "source": [
        "from langchain_core.prompts import ChatPromptTemplate\n",
        "\n",
        "prompt_template = ChatPromptTemplate.from_messages(\n",
        "    [\n",
        "        (\"system\", \"Translate the following from English into {language}\"),\n",
        "         (\"user\", \"{text}\")\n",
        "    ]\n",
        ")\n",
        "\n",
        "prompt = prompt_template.invoke({\"language\": \"Romanian\", \"text\": \"hi!\"})\n",
        "prompt.to_messages() #messages component\n",
        "response = llm.invoke(prompt.to_messages())\n",
        "to_markdown(response.content)"
      ],
      "metadata": {
        "colab": {
          "base_uri": "https://localhost:8080/",
          "height": 46
        },
        "id": "-NyrN1z0QnVK",
        "outputId": "f434d8bc-21e3-47d0-a298-d41c6c19f4c1"
      },
      "execution_count": null,
      "outputs": [
        {
          "output_type": "display_data",
          "data": {
            "text/plain": [
              "<IPython.core.display.Markdown object>"
            ],
            "text/markdown": "Salut!\n"
          },
          "metadata": {}
        }
      ]
    },
    {
      "cell_type": "markdown",
      "source": [
        "Batch Method"
      ],
      "metadata": {
        "id": "SKagbHaG93zA"
      }
    },
    {
      "cell_type": "code",
      "source": [
        "prompt_template = ChatPromptTemplate([\n",
        "    (\"system\", \"You are a programming expert.\"),\n",
        "    (\"user\", \"write a Hello World program in {language}.\")\n",
        "])\n",
        "\n",
        "inputs = [\n",
        "    {\"language\": \"Python\"},\n",
        "    {\"language\": \"Typescript\"}\n",
        "  ]\n",
        "\n",
        "chain = prompt_template | llm\n",
        "aimsg = chain.batch(inputs)\n",
        "print(aimsg[0].content)\n",
        "print(aimsg[1].content)"
      ],
      "metadata": {
        "colab": {
          "base_uri": "https://localhost:8080/"
        },
        "collapsed": true,
        "id": "_aRMdP9G4zAD",
        "outputId": "8eec9fee-671f-4024-bf57-49df26dde62a"
      },
      "execution_count": null,
      "outputs": [
        {
          "output_type": "stream",
          "name": "stdout",
          "text": [
            "\n",
            "Okay, here's a simple \"Hello, World!\" program in TypeScript, along with explanations:\n",
            "\n",
            "```typescript\n",
            "// hello.ts\n",
            "\n",
            "function sayHello(name: string): void {\n",
            "  console.log(`Hello, ${name}!`);\n",
            "}\n",
            "\n",
            "sayHello(\"World\");\n",
            "```\n",
            "\n",
            "**Explanation:**\n",
            "\n",
            "1.  **`// hello.ts`**: This is a comment indicating that the code is likely saved in a file named `hello.ts`. TypeScript files typically use the `.ts` extension.\n",
            "\n",
            "2.  **`function sayHello(name: string): void { ... }`**:\n",
            "    *   **`function sayHello(...)`**: This declares a function named `sayHello`.\n",
            "    *   **`(name: string)`**: This defines a parameter named `name` of type `string`. TypeScript's type system enforces that the `name` argument must be a string when the function is called.\n",
            "    *   **`: void`**: This specifies that the function does not return any value.\n",
            "\n",
            "3.  **`console.log(\\`Hello, ${name}!\\`);`**:\n",
            "    *   **`console.log(...)`**: This is a standard JavaScript function used to print output to the console.\n",
            "    *   **\\`Hello, ${name}!\\`**: This is a template literal (using backticks ``). It allows you to embed variables directly into a string using `${variableName}`. In this case, it will insert the value of the `name` parameter into the string.\n",
            "\n",
            "4.  **`sayHello(\"World\");`**: This line calls the `sayHello` function, passing the string `\"World\"` as the argument.\n",
            "\n",
            "**How to Run This Code:**\n",
            "\n",
            "1.  **Save:** Save the code in a file named `hello.ts`.\n",
            "2.  **Install TypeScript:** If you don't have it already, install TypeScript globally using npm:\n",
            "    ```bash\n",
            "    npm install -g typescript\n",
            "    ```\n",
            "3.  **Compile:** Open your terminal or command prompt, navigate to the directory where you saved `hello.ts`, and compile the TypeScript code to JavaScript:\n",
            "    ```bash\n",
            "    tsc hello.ts\n",
            "    ```\n",
            "    This will create a `hello.js` file in the same directory.\n",
            "4.  **Run:** Execute the generated JavaScript file using Node.js:\n",
            "    ```bash\n",
            "    node hello.js\n",
            "    ```\n",
            "\n",
            "**Output:**\n",
            "\n",
            "You should see the following output in your console:\n",
            "\n",
            "```\n",
            "Hello, World!\n",
            "```\n",
            "\n",
            "**Key TypeScript Concepts Illustrated:**\n",
            "\n",
            "*   **Type Annotations:** The `: string` and `: void` are type annotations. They tell TypeScript what type of data a variable or function parameter/return value should be. This helps catch errors during development.\n",
            "*   **Functions:** TypeScript uses the `function` keyword to define functions, similar to JavaScript.\n",
            "*   **Template Literals:** The backtick-enclosed strings with `${}` are a modern JavaScript feature that TypeScript supports.\n",
            "*   **Compilation:** TypeScript code needs to be compiled into JavaScript before it can be run in a browser or with Node.js.\n",
            "\n",
            "This simple example demonstrates the basic structure of a TypeScript program and how to compile and run it. Let me know if you have any other questions!\n",
            "\n"
          ]
        }
      ]
    }
  ]
}